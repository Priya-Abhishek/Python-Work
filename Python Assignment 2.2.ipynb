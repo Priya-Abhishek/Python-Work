{
 "cells": [
  {
   "cell_type": "code",
   "execution_count": 1,
   "metadata": {},
   "outputs": [
    {
     "name": "stdout",
     "output_type": "stream",
     "text": [
      "Enter the no. of rows to print:5\n",
      "* \n",
      "* * \n",
      "* * * \n",
      "* * * * \n",
      "* * * * * \n",
      "* * * * \n",
      "* * * \n",
      "* * \n",
      "* \n"
     ]
    }
   ],
   "source": [
    "def prntpart(n): \n",
    "    for i in range(0, n-1):\n",
    "        for j in range(0, i + 1):\n",
    "            print(\"* \", end=\"\")\n",
    "        print(\"\\r\")\n",
    "    for i in range(n-1,-1,-1):\n",
    "        for j in range(0, i + 1):\n",
    "            print(\"* \", end=\"\")\n",
    "        print(\"\\r\")\n",
    "        \n",
    "n = input(\"Enter the no. of rows to print:\")\n",
    "prntpart(int(n))"
   ]
  },
  {
   "cell_type": "code",
   "execution_count": 2,
   "metadata": {},
   "outputs": [
    {
     "name": "stdout",
     "output_type": "stream",
     "text": [
      "please provide the word to print:ineuron\n",
      "Input Word: ineuron\n",
      "Output Word: norueni\n"
     ]
    }
   ],
   "source": [
    "def prntrev(inputword):\n",
    "    stringlength=len(inputword) \n",
    "    outputword = inputword[stringlength::-1]\n",
    "    \n",
    "    print(\"Input Word: \" + inputword)\n",
    "    print(\"Output Word: \" + outputword)  \n",
    " \n",
    "inputword = input(\"please provide the word to print:\")\n",
    "prntrev(inputword)\n"
   ]
  },
  {
   "cell_type": "code",
   "execution_count": null,
   "metadata": {},
   "outputs": [],
   "source": []
  }
 ],
 "metadata": {
  "kernelspec": {
   "display_name": "Python 3",
   "language": "python",
   "name": "python3"
  },
  "language_info": {
   "codemirror_mode": {
    "name": "ipython",
    "version": 3
   },
   "file_extension": ".py",
   "mimetype": "text/x-python",
   "name": "python",
   "nbconvert_exporter": "python",
   "pygments_lexer": "ipython3",
   "version": "3.8.3"
  }
 },
 "nbformat": 4,
 "nbformat_minor": 4
}
